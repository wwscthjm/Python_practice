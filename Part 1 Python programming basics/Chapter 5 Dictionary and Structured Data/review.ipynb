{
 "cells": [
  {
   "cell_type": "markdown",
   "metadata": {},
   "source": [
    ">Created by CJ in 2020.09.06\n",
    ">\n",
    ">Review of Part 1 - Chapter 5\n",
    "\n",
    "5.1 Nested dictionary and list"
   ]
  },
  {
   "cell_type": "code",
   "execution_count": 2,
   "metadata": {
    "pycharm": {
     "name": "#%%\n"
    }
   },
   "outputs": [
    {
     "name": "stdout",
     "output_type": "stream",
     "text": [
      "Number of things being brought:\n",
      " - Apple 7\n",
      " - Cups 3\n",
      " - Cakes 0\n",
      " - Ham Sandwiches 3\n",
      " - Apple Pies 1\n"
     ]
    }
   ],
   "source": [
    "def total_brought(guests, item):\n",
    "    number_brought = 0\n",
    "    for k, v in guests.items():\n",
    "        number_brought += v.get(item, 0)\n",
    "    return number_brought\n",
    "\n",
    "all_guests = {'Alice': {'apples': 5, 'pretzels': 12, },\n",
    "             'Bob': {'ham sandwiches': 3, 'apples': 2, },\n",
    "             'Carol': {'cups': 3, 'apple pies': 1}, }\n",
    "\n",
    "print('Number of things being brought:')\n",
    "print(' - Apple ' + str(total_brought(all_guests, 'apples')))\n",
    "print(' - Cups ' + str(total_brought(all_guests, 'cups')))\n",
    "print(' - Cakes ' + str(total_brought(all_guests, 'cakes')))\n",
    "print(' - Ham Sandwiches ' + str(total_brought(all_guests, 'ham sandwiches')))\n",
    "print(' - Apple Pies ' + str(total_brought(all_guests, 'apple pies')))"
   ]
  },
  {
   "cell_type": "markdown",
   "metadata": {
    "pycharm": {
     "name": "#%% md\n"
    }
   },
   "source": [
    "5.2 Functions\n",
    "* functions \"dic.keys()\", \"dic.values()\" and \"dic.items()\" return keys, values and key-value pairs.\n",
    "* function \"dic.get(key, backup_value)\" returns value of key, if the key is not in the dictionary, returns backup_value."
   ]
  },
  {
   "cell_type": "code",
   "execution_count": 1,
   "metadata": {
    "pycharm": {
     "name": "#%%\n"
    }
   },
   "outputs": [
    {
     "name": "stdout",
     "output_type": "stream",
     "text": [
      "2\n",
      "0\n"
     ]
    }
   ],
   "source": [
    "picnic_items = {'apples': 5,\n",
    "                'cups': 2, }\n",
    "print(picnic_items.get('cups', 0))\n",
    "print(picnic_items.get('eggs', 0))"
   ]
  },
  {
   "cell_type": "markdown",
   "metadata": {},
   "source": [
    "* functions \"dic.setdefault(key, value)\" sets default value for the key, if the key doesn't exist.\n",
    "> [character_count.py](http://localhost:8888/edit/Part%201%20Python%20programming%20basics/Chapter%205%20Dictionary%20and%20Structured%20Data/character_count.py)\n",
    "* module pprint\n",
    "> function \"pprint.pprint(dic)\" prints dictionary in a sorted status.\n",
    ">>[pretty_character_count.py](http://localhost:8888/edit/Part%201%20Python%20programming%20basics/Chapter%205%20Dictionary%20and%20Structured%20Data/pretty_character_count.py)\n",
    ">\n",
    ">function \"pprint.pformat(dic)\" returns a sorted dictionary as a string.\n",
    ">> ```python\n",
    ">> import pprint\n",
    ">>\n",
    ">> dic = {}\n",
    ">> pprint.pprint(dic)\n",
    ">> print(pprint.pformat(dic))\n",
    ">> # Above two lines of codes are the same.\n",
    ">>\n",
    ">> ```\n",
    "\n",
    "5.3 Practice\n",
    "\n",
    "5.3.1"
   ]
  },
  {
   "cell_type": "code",
   "execution_count": 3,
   "metadata": {
    "pycharm": {
     "name": "#%%\n"
    }
   },
   "outputs": [
    {
     "name": "stdout",
     "output_type": "stream",
     "text": [
      "Inventory:\n",
      "1 rope\n",
      "6 torch\n",
      "42 golden coin\n",
      "1 dagger\n",
      "12 arrow\n",
      "Total number of items: 62\n"
     ]
    }
   ],
   "source": [
    "def display_inventory(dic):\n",
    "    print('Inventory:')\n",
    "    num_inv = 0\n",
    "    for k, v in dic.items():\n",
    "        print(str(v), k)\n",
    "        num_inv += v\n",
    "\n",
    "    print('Total number of items: %d' % num_inv)\n",
    "\n",
    "\n",
    "inv = {'rope': 1,\n",
    "       'torch': 6,\n",
    "       'golden coin': 42,\n",
    "       'dagger': 1,\n",
    "       'arrow': 12, }\n",
    "\n",
    "display_inventory(inv)"
   ]
  },
  {
   "cell_type": "markdown",
   "metadata": {},
   "source": [
    "5.3.2"
   ]
  },
  {
   "cell_type": "code",
   "execution_count": 4,
   "metadata": {
    "pycharm": {
     "name": "#%%\n"
    }
   },
   "outputs": [
    {
     "name": "stdout",
     "output_type": "stream",
     "text": [
      "Inventory:\n",
      "45 gold coin\n",
      "1 rope\n",
      "1 dagger\n",
      "1 ruby\n",
      "Total number of items: 48\n"
     ]
    }
   ],
   "source": [
    "def add_to_inventory(inventory, added_items):\n",
    "    for item in added_items:\n",
    "        inventory.setdefault(item, 0)\n",
    "        inventory[item] += 1\n",
    "\n",
    "    return inventory\n",
    "\n",
    "\n",
    "inv = {'gold coin': 42,\n",
    "       'rope': 1, }\n",
    "dragon_loot = ['gold coin', 'dagger', 'gold coin', 'gold coin', 'ruby', ]\n",
    "\n",
    "inv = add_to_inventory(inv, dragon_loot)\n",
    "display_inventory(inv)"
   ]
  }
 ],
 "metadata": {
  "kernelspec": {
   "display_name": "Python 3",
   "language": "python",
   "name": "python3"
  },
  "language_info": {
   "codemirror_mode": {
    "name": "ipython",
    "version": 3
   },
   "file_extension": ".py",
   "mimetype": "text/x-python",
   "name": "python",
   "nbconvert_exporter": "python",
   "pygments_lexer": "ipython3",
   "version": "3.7.8"
  },
  "toc": {
   "base_numbering": 1,
   "nav_menu": {},
   "number_sections": true,
   "sideBar": true,
   "skip_h1_title": false,
   "title_cell": "Table of Contents",
   "title_sidebar": "Contents",
   "toc_cell": false,
   "toc_position": {},
   "toc_section_display": true,
   "toc_window_display": false
  }
 },
 "nbformat": 4,
 "nbformat_minor": 1
}