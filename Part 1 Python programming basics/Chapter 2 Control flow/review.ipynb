{
 "cells": [
  {
   "cell_type": "markdown",
   "metadata": {
    "collapsed": true,
    "pycharm": {
     "name": "#%% md\n"
    }
   },
   "source": [
    ">Created by CJ in 2020.08.16\n",
    ">\n",
    ">Review of Part 1 - Chapter 2\n",
    "\n",
    "2.1 Comparison operator\n",
    "\n",
    "|operators|meanings               |\n",
    "|----     |----                   |\n",
    "|==       |equal                  |\n",
    "|!=       |not equal              |\n",
    "|<        |less than              |\n",
    "|>        |larger than            |\n",
    "|<=       |less than or equal to  |\n",
    "|>=       |larger than or equal to|\n",
    "\n",
    "2.2 Truth table\n",
    "\n",
    "2.2.1 and\n",
    "\n",
    "|\\        | True  | False |\n",
    "|-------  |-------|-------|\n",
    "|**True** | True  | False |\n",
    "|**False**| False | False |\n",
    "\n",
    "2.2.2 or\n",
    "\n",
    "|\\        | True  | False |\n",
    "|-------  |-------|-------|\n",
    "|**True** | True  | True  |\n",
    "|**False**| True  | False |\n",
    "\n",
    "2.2.3 not\n",
    "\n",
    "| True  | False |\n",
    "|-------|-------|\n",
    "| False | True  |\n",
    "\n",
    "2.3\n",
    "\n",
    "    range(): range(start, end[, step]) return interger sequence from start(inclusive, default 0) to end(exclusive), step by step(default 0)\n",
    "    sys.exit() can be used to exit a program(import sys at first).\n"
   ]
  }
 ],
 "metadata": {
  "kernelspec": {
   "display_name": "Python 3",
   "language": "python",
   "name": "python3"
  },
  "language_info": {
   "codemirror_mode": {
    "name": "ipython",
    "version": 3
   },
   "file_extension": ".py",
   "mimetype": "text/x-python",
   "name": "python",
   "nbconvert_exporter": "python",
   "pygments_lexer": "ipython3",
   "version": "3.7.8"
  },
  "toc": {
   "base_numbering": 1,
   "nav_menu": {},
   "number_sections": true,
   "sideBar": true,
   "skip_h1_title": false,
   "title_cell": "Table of Contents",
   "title_sidebar": "Contents",
   "toc_cell": false,
   "toc_position": {},
   "toc_section_display": true,
   "toc_window_display": false
  }
 },
 "nbformat": 4,
 "nbformat_minor": 1
}