{
 "cells": [
  {
   "cell_type": "markdown",
   "metadata": {
    "collapsed": true,
    "pycharm": {
     "name": "#%% md\n"
    }
   },
   "source": [
    ">Created by CJ in 2020.09.06\n",
    ">\n",
    ">Review of Part 1 - Chapter 4\n",
    "\n",
    "4.1 Negative subscript"
   ]
  },
  {
   "cell_type": "code",
   "execution_count": 2,
   "metadata": {
    "ExecuteTime": {
     "end_time": "2020-09-06T09:50:24.143461Z",
     "start_time": "2020-09-06T09:50:24.134457Z"
    },
    "pycharm": {
     "name": "#%%\n"
    }
   },
   "outputs": [
    {
     "name": "stdout",
     "output_type": "stream",
     "text": [
      "elephant\n",
      "cat\n"
     ]
    }
   ],
   "source": [
    "spam = ['cat', 'bat', 'rat', 'elephant']\n",
    "print(spam[-1])\n",
    "print(spam[-4])"
   ]
  },
  {
   "cell_type": "markdown",
   "metadata": {
    "pycharm": {
     "name": "#%% md\n"
    }
   },
   "source": [
    "4.2 Slicing"
   ]
  },
  {
   "cell_type": "code",
   "execution_count": 1,
   "metadata": {
    "pycharm": {
     "name": "#%%\n"
    }
   },
   "outputs": [
    {
     "name": "stdout",
     "output_type": "stream",
     "text": [
      "['cat', 'bat', 'rat', 'elephant']\n",
      "['bat', 'rat']\n",
      "['cat', 'bat', 'rat']\n",
      "['cat', 'bat']\n",
      "['bat', 'rat', 'elephant']\n",
      "['cat', 'bat', 'rat', 'elephant']\n",
      "['cat', 'bat', 'rat', 'elephant']\n"
     ]
    }
   ],
   "source": [
    "print(spam[0:4])\n",
    "print(spam[1:3])\n",
    "print(spam[0:-1])\n",
    "print(spam[:2])\n",
    "print(spam[1:])\n",
    "print(spam[:])\n",
    "print(spam)"
   ]
  },
  {
   "cell_type": "markdown",
   "metadata": {
    "pycharm": {
     "name": "#%% md\n"
    }
   },
   "source": [
    "4.3 Reference"
   ]
  },
  {
   "cell_type": "code",
   "execution_count": 2,
   "metadata": {
    "pycharm": {
     "name": "#%%\n"
    }
   },
   "outputs": [
    {
     "name": "stdout",
     "output_type": "stream",
     "text": [
      "[0, 'Hello!', 2, 3, 4, 5]\n",
      "[0, 'Hello!', 2, 3, 4, 5]\n"
     ]
    }
   ],
   "source": [
    "spam = [0, 1, 2, 3, 4, 5]\n",
    "cheese = spam\n",
    "cheese[1] = 'Hello!'\n",
    "print(spam)\n",
    "print(cheese)"
   ]
  },
  {
   "cell_type": "markdown",
   "metadata": {
    "pycharm": {
     "name": "#%% md\n"
    }
   },
   "source": [
    "* \"spam\" and \"cheese\" are just reference to the list, and they are all pointing to a same list."
   ]
  },
  {
   "cell_type": "markdown",
   "metadata": {
    "pycharm": {
     "name": "#%% md\n"
    }
   },
   "source": [
    "4.4 Some functions and words\n",
    "\n",
    "* function \"len(obj)\" can return number of elements in the obj.\n",
    "* word \"del obj[int]\" can delete an element in a specific location in an obj.\n",
    "* function \"obj.index(element)\" can return the index of an element, if there are many indexes, this function will return the first index.\n",
    "> this function is usually used to find a specific element's location.\n",
    "* function \"obj.append(element)\" can add an element to the end of a list or tuple.\n",
    "* function \"obj.insert(int, element)\" can add the element at a specific location.\n",
    "* function \"obj.remove(element)\" can delete a specific element.\n",
    "* function \"obj.sort(keyword)\" can sort a numerical or string list.\n",
    "> keyword \"reverse=True\" can sort list in a reverse order, default False.\n",
    "> keyword \"key=str.lower\" and \"key=str.upper\" can sort list in ordinary dictionary order.\n",
    "* function \"list(obj)\" and \"tuple(obj)\" can transform an obj to list or tuple type.\n",
    "* module \"copy\"\n",
    "> function \"obj1 = copy.copy(obj2)\" can copy a list or dictionary, not the reference.\n",
    "> function \"obj1 = copy.deepcopy(obj2)\" can copy a list or dictionary if they contain lists or dictionaries."
   ]
  },
  {
   "cell_type": "code",
   "execution_count": 3,
   "metadata": {
    "pycharm": {
     "name": "#%%\n"
    }
   },
   "outputs": [
    {
     "name": "stdout",
     "output_type": "stream",
     "text": [
      "['A', 'B', 'C', 'D']\n",
      "['A', 42, 'C', 'D']\n"
     ]
    }
   ],
   "source": [
    "import copy\n",
    "\n",
    "spam = ['A', 'B', 'C', 'D']\n",
    "cheese = copy.copy(spam)\n",
    "cheese[1] = 42\n",
    "print(spam)\n",
    "print(cheese)"
   ]
  },
  {
   "cell_type": "markdown",
   "source": [
    "4.5 Practice\n",
    "\n",
    "4.5.1"
   ],
   "metadata": {
    "collapsed": false
   }
  },
  {
   "cell_type": "code",
   "execution_count": 6,
   "outputs": [
    {
     "name": "stdout",
     "output_type": "stream",
     "text": [
      "apples, bananas, tofu, and cats\n"
     ]
    }
   ],
   "source": [
    "def print_list_with_comma(ls):\n",
    "    for ele in ls[:-1]:\n",
    "        print(ele + ', ', end='')\n",
    "    print('and ' + ls[-1])\n",
    "spam = ['apples', 'bananas', 'tofu', 'cats']\n",
    "print_list_with_comma(spam)"
   ],
   "metadata": {
    "collapsed": false,
    "pycharm": {
     "name": "#%%\n"
    }
   }
  },
  {
   "cell_type": "markdown",
   "source": [
    "4.5.2"
   ],
   "metadata": {
    "collapsed": false
   }
  },
  {
   "cell_type": "code",
   "execution_count": 1,
   "outputs": [
    {
     "name": "stdout",
     "output_type": "stream",
     "text": [
      "..00.00..\n",
      ".0000000.\n",
      ".0000000.\n",
      "..00000..\n",
      "...000...\n",
      "....0....\n"
     ]
    }
   ],
   "source": [
    "grid = [['.', '.', '.', '.', '.', '.'],\n",
    "        ['.', '0', '0', '.', '.', '.'],\n",
    "        ['0', '0', '0', '0', '.', '.'],\n",
    "        ['0', '0', '0', '0', '0', '.'],\n",
    "        ['.', '0', '0', '0', '0', '0'],\n",
    "        ['0', '0', '0', '0', '0', '.'],\n",
    "        ['0', '0', '0', '0', '.', '.'],\n",
    "        ['.', '0', '0', '.', '.', '.'],\n",
    "        ['.', '.', '.', '.', '.', '.'],]\n",
    "row = len(grid)\n",
    "col = len(grid[0])\n",
    "for i in range(col):\n",
    "    for j in range(row):\n",
    "        print(grid[j][i], end='')\n",
    "    print()"
   ],
   "metadata": {
    "collapsed": false,
    "pycharm": {
     "name": "#%%\n"
    }
   }
  },
  {
   "cell_type": "code",
   "execution_count": null,
   "metadata": {},
   "outputs": [],
   "source": []
  }
 ],
 "metadata": {
  "kernelspec": {
   "display_name": "Python 3",
   "language": "python",
   "name": "python3"
  },
  "language_info": {
   "codemirror_mode": {
    "name": "ipython",
    "version": 3
   },
   "file_extension": ".py",
   "mimetype": "text/x-python",
   "name": "python",
   "nbconvert_exporter": "python",
   "pygments_lexer": "ipython3",
   "version": "3.7.8"
  },
  "toc": {
   "base_numbering": 1,
   "nav_menu": {},
   "number_sections": true,
   "sideBar": true,
   "skip_h1_title": false,
   "title_cell": "Table of Contents",
   "title_sidebar": "Contents",
   "toc_cell": false,
   "toc_position": {},
   "toc_section_display": true,
   "toc_window_display": false
  }
 },
 "nbformat": 4,
 "nbformat_minor": 1
}