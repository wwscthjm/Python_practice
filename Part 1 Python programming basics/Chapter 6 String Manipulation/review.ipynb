{
 "cells": [
  {
   "cell_type": "markdown",
   "metadata": {
    "pycharm": {
     "name": "#%% md\n"
    }
   },
   "source": [
    ">Created by CJ in 2020.09.06\n",
    ">\n",
    ">Review of Part 1 - Chapter 6\n",
    "\n",
    "6.1 Strings\n",
    "\n",
    "6.1.1 Escape character\n",
    "\n",
    "|Escape character|Print as     |\n",
    "|----            |----         |\n",
    "|\\'              |Apostrophe   |\n",
    "|\\\"              |Double quotes|\n",
    "|\\t              |Tabs         |\n",
    "|\\n              |Newline      |\n",
    "|\\\\              |Backslash    |\n",
    "\n",
    "6.1.2 Original string\n",
    "* Use r before apostrophe mark at the beginning of the string.\n",
    "* Original string ignores all escape characters."
   ]
  },
  {
   "cell_type": "code",
   "execution_count": 1,
   "outputs": [
    {
     "name": "stdout",
     "output_type": "stream",
     "text": [
      "That is Carol\\'s cat.\n"
     ]
    }
   ],
   "source": [
    "print(r'That is Carol\\'s cat.')"
   ],
   "metadata": {
    "collapsed": false,
    "pycharm": {
     "name": "#%%\n"
    }
   }
  },
  {
   "cell_type": "markdown",
   "source": [
    "6.1.3 Triple quotes\n",
    "* Multiline strings are covered in triple quotes.\n",
    "> \"\"\"xxx\"\"\" or '''xxx'''\n",
    "* All the quotes, tabs and newlines are considered as parts of the string."
   ],
   "metadata": {
    "collapsed": false,
    "pycharm": {
     "name": "#%% md\n"
    }
   }
  },
  {
   "cell_type": "code",
   "execution_count": 3,
   "outputs": [
    {
     "name": "stdout",
     "output_type": "stream",
     "text": [
      "Dear Alice,\n",
      "\n",
      "Eve's cat has been arrested for catnapping, cat burglary, and extortion.\n",
      "\n",
      "Sincerely,\n",
      "Bob\n"
     ]
    }
   ],
   "source": [
    "print('''Dear Alice,\n",
    "\n",
    "Eve's cat has been arrested for catnapping, cat burglary, and extortion.\n",
    "\n",
    "Sincerely,\n",
    "Bob''')"
   ],
   "metadata": {
    "collapsed": false,
    "pycharm": {
     "name": "#%%\n"
    }
   }
  },
  {
   "cell_type": "markdown",
   "source": [
    "6.1.4 String subscript and slicing"
   ],
   "metadata": {
    "collapsed": false,
    "pycharm": {
     "name": "#%% md\n"
    }
   }
  },
  {
   "cell_type": "code",
   "execution_count": 4,
   "outputs": [
    {
     "name": "stdout",
     "output_type": "stream",
     "text": [
      "H\n",
      "o\n",
      "!\n",
      "Hello\n",
      "Hello\n",
      "world!\n"
     ]
    }
   ],
   "source": [
    "spam = 'Hello world!'\n",
    "print(spam[0])\n",
    "print(spam[4])\n",
    "print(spam[-1])\n",
    "print(spam[0:5])\n",
    "print(spam[:5])\n",
    "print(spam[6:])"
   ],
   "metadata": {
    "collapsed": false,
    "pycharm": {
     "name": "#%%\n"
    }
   }
  },
  {
   "cell_type": "markdown",
   "source": [
    "6.x Functions\n",
    "* Function \"str.upper()\" return upper form of string.\n",
    "* Function \"str.lower()\" return lower form of string.\n",
    "* Function \"str.isX()\"\n",
    "> Function \"str.isupper()\" return True only if string is in upper form, otherwise, False.\n",
    ">\n",
    "> Function \"str.islower()\" return True only if string is in lower form, otherwise, False.\n",
    ">\n",
    "> Function \"str.isalpha()\" return True only if string only contains alphabet and not empty, otherwise, False.\n",
    ">\n",
    "> Function \"str.isalnum()\" return True only if string contains alphabet and number and not empty, otherwise, False.\n",
    ">\n",
    "> Function \"str.isdecimal()\" return True only if string only contains number and not empty, otherwise, False.\n",
    ">\n",
    "> Function \"str.isspace()\" return True only if string contains SPACE, TAB and NEWLINE and not empty, otherwise, False.\n",
    ">\n",
    "> Function \"str.istitle()\" return True only if string only contains words which start with upper letter and follow by lower letters, otherwise, False.\n",
    ">>[validate_input.py](http://localhost:8888/edit/Part%201%20Python%20programming%20basics/Chapter%206%20String%20Manipulation/validate_input.py)"
   ],
   "metadata": {
    "collapsed": false,
    "pycharm": {
     "name": "#%% md\n"
    }
   }
  },
  {
   "cell_type": "code",
   "execution_count": 2,
   "outputs": [
    {
     "name": "stdout",
     "output_type": "stream",
     "text": [
      "True\n",
      "False\n",
      "True\n",
      "True\n",
      "True\n",
      "True\n",
      "True\n",
      "True\n",
      "False\n",
      "False\n"
     ]
    }
   ],
   "source": [
    "print('hello'.isalpha())\n",
    "print('hello123'.isalpha())\n",
    "print('hello123'.isalnum())\n",
    "print('hello'.isalnum())\n",
    "print('123'.isdecimal())\n",
    "print(' '.isspace())\n",
    "print('This Is Title Case'.istitle())\n",
    "print('This Is Title Case 123'.istitle())\n",
    "print('This Is not Title Case'.istitle())\n",
    "print('This Is NOT Title Case Either'.istitle())"
   ],
   "metadata": {
    "collapsed": false,
    "pycharm": {
     "name": "#%%\n"
    }
   }
  },
  {
   "cell_type": "markdown",
   "source": [
    "* Function \"str1.startswith(str2)\" and \"str1.endswith(str2)\" returns True when str1 starts or ends with str2, otherwise, False.\n",
    "* Function \"str.join(str_list)\" can connect all elements in the str_list separated by the str.\n",
    "* Function \"str1.split(str2)\" can split str1 by str2, when str2 is not given, str1 will be split by SPACE and '\\n'."
   ],
   "metadata": {
    "collapsed": false,
    "pycharm": {
     "name": "#%% md\n"
    }
   }
  }
 ],
 "metadata": {
  "kernelspec": {
   "display_name": "Python 3",
   "language": "python",
   "name": "python3"
  },
  "language_info": {
   "codemirror_mode": {
    "name": "ipython",
    "version": 3
   },
   "file_extension": ".py",
   "mimetype": "text/x-python",
   "name": "python",
   "nbconvert_exporter": "python",
   "pygments_lexer": "ipython3",
   "version": "3.7.8"
  },
  "toc": {
   "base_numbering": 1,
   "nav_menu": {},
   "number_sections": true,
   "sideBar": true,
   "skip_h1_title": false,
   "title_cell": "Table of Contents",
   "title_sidebar": "Contents",
   "toc_cell": false,
   "toc_position": {},
   "toc_section_display": true,
   "toc_window_display": false
  }
 },
 "nbformat": 4,
 "nbformat_minor": 1
}